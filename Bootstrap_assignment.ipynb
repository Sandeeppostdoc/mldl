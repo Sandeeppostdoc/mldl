{
  "nbformat": 4,
  "nbformat_minor": 0,
  "metadata": {
    "colab": {
      "name": "Submit_Bootstrap_assignment.ipynb",
      "provenance": [],
      "collapsed_sections": []
    },
    "kernelspec": {
      "name": "python3",
      "display_name": "Python 3"
    }
  },
  "cells": [
    {
      "cell_type": "markdown",
      "metadata": {
        "id": "3sNKZq4XrXQh"
      },
      "source": [
        "# <font color='red'><b>Bootstrap assignment</b> </font>"
      ]
    },
    {
      "cell_type": "markdown",
      "metadata": {
        "id": "RAHap1Z3FZC-"
      },
      "source": [
        "<b>There will be some functions that start with the word \"grader\" ex: grader_sampples(), grader_30().. etc, you should not change those function definition.\n",
        "\n",
        "Every Grader function has to return True.</b>"
      ]
    },
    {
      "cell_type": "markdown",
      "metadata": {
        "id": "cuxBq_bvrwh2"
      },
      "source": [
        "<font color='blue'> <b>Importing packages</b> </font>"
      ]
    },
    {
      "cell_type": "code",
      "metadata": {
        "id": "m6ag91ijrQOs"
      },
      "source": [
        "import numpy as np\n",
        "from sklearn.datasets import load_boston\n",
        "from sklearn.metrics import mean_squared_error\n",
        "import random\n",
        "from sklearn.tree import DecisionTreeRegressor"
      ],
      "execution_count": 32,
      "outputs": []
    },
    {
      "cell_type": "code",
      "metadata": {
        "id": "CcHOsONTt1K_"
      },
      "source": [
        "boston = load_boston()\n",
        "x=boston.data\n",
        "y=boston.target"
      ],
      "execution_count": 33,
      "outputs": []
    },
    {
      "cell_type": "code",
      "metadata": {
        "id": "pc1htEFYuLRj",
        "colab": {
          "base_uri": "https://localhost:8080/"
        },
        "outputId": "80c8e6e7-d0d5-4a37-fa67-db5aab38ef61"
      },
      "source": [
        "x.shape"
      ],
      "execution_count": 34,
      "outputs": [
        {
          "output_type": "execute_result",
          "data": {
            "text/plain": [
              "(506, 13)"
            ]
          },
          "metadata": {},
          "execution_count": 34
        }
      ]
    },
    {
      "cell_type": "code",
      "metadata": {
        "id": "kQle3T_wuOa3",
        "colab": {
          "base_uri": "https://localhost:8080/"
        },
        "outputId": "bf26890f-1bcf-4a09-dbcb-3642b229c994"
      },
      "source": [
        "x[:5]"
      ],
      "execution_count": 35,
      "outputs": [
        {
          "output_type": "execute_result",
          "data": {
            "text/plain": [
              "array([[6.3200e-03, 1.8000e+01, 2.3100e+00, 0.0000e+00, 5.3800e-01,\n",
              "        6.5750e+00, 6.5200e+01, 4.0900e+00, 1.0000e+00, 2.9600e+02,\n",
              "        1.5300e+01, 3.9690e+02, 4.9800e+00],\n",
              "       [2.7310e-02, 0.0000e+00, 7.0700e+00, 0.0000e+00, 4.6900e-01,\n",
              "        6.4210e+00, 7.8900e+01, 4.9671e+00, 2.0000e+00, 2.4200e+02,\n",
              "        1.7800e+01, 3.9690e+02, 9.1400e+00],\n",
              "       [2.7290e-02, 0.0000e+00, 7.0700e+00, 0.0000e+00, 4.6900e-01,\n",
              "        7.1850e+00, 6.1100e+01, 4.9671e+00, 2.0000e+00, 2.4200e+02,\n",
              "        1.7800e+01, 3.9283e+02, 4.0300e+00],\n",
              "       [3.2370e-02, 0.0000e+00, 2.1800e+00, 0.0000e+00, 4.5800e-01,\n",
              "        6.9980e+00, 4.5800e+01, 6.0622e+00, 3.0000e+00, 2.2200e+02,\n",
              "        1.8700e+01, 3.9463e+02, 2.9400e+00],\n",
              "       [6.9050e-02, 0.0000e+00, 2.1800e+00, 0.0000e+00, 4.5800e-01,\n",
              "        7.1470e+00, 5.4200e+01, 6.0622e+00, 3.0000e+00, 2.2200e+02,\n",
              "        1.8700e+01, 3.9690e+02, 5.3300e+00]])"
            ]
          },
          "metadata": {},
          "execution_count": 35
        }
      ]
    },
    {
      "cell_type": "markdown",
      "metadata": {
        "id": "AEa_HqRZloH4"
      },
      "source": [
        "## <font color='red'><b>Task 1</b></font>"
      ]
    },
    {
      "cell_type": "markdown",
      "metadata": {
        "id": "YQ5q8IxHNRk3"
      },
      "source": [
        "<font color='red'> <b>Step - 1</b></font>"
      ]
    },
    {
      "cell_type": "markdown",
      "metadata": {
        "id": "GJCFCaOzl7Mr"
      },
      "source": [
        "*  <font color='blue'><b>Creating samples</b></font><br>\n",
        "    <b> Randomly create 30 samples from the whole boston data points</b>\n",
        "    *  Creating each sample: Consider any random 303(60% of 506) data points from whole data set and then replicate any 203 points from the sampled points\n",
        "    \n",
        "     For better understanding of this procedure lets check this examples, assume we have 10 data points [1,2,3,4,5,6,7,8,9,10], first we take 6 data points randomly , consider we have selected [4, 5, 7, 8, 9, 3] now we will replicate 4 points from [4, 5, 7, 8, 9, 3], consder they are [5, 8, 3,7] so our final sample will be [4, 5, 7, 8, 9, 3, 5, 8, 3,7]\n",
        "* <font color='blue'><b> Create 30 samples </b></font>\n",
        "    *  Note that as a part of the Bagging when you are taking the random samples <b>make sure each of the sample will have different set of columns</b><br>\n",
        "Ex: Assume we have 10 columns[1 ,2 ,3 ,4 ,5 ,6 ,7 ,8 ,9 ,10] for the first sample we will select [3, 4, 5, 9, 1, 2] and for the second sample  [7, 9, 1, 4, 5, 6, 2] and so on...\n",
        "Make sure each sample will have atleast 3 feautres/columns/attributes"
      ]
    },
    {
      "cell_type": "markdown",
      "metadata": {
        "id": "zUqFEBSvNjCa"
      },
      "source": [
        "<font color='red'><b>Step - 2 </b></font>"
      ]
    },
    {
      "cell_type": "markdown",
      "metadata": {
        "id": "uqi9AhCYNq3Z"
      },
      "source": [
        "<font color='blue'><b>Building High Variance Models on each of the sample and finding train MSE value</b></font>"
      ]
    },
    {
      "cell_type": "markdown",
      "metadata": {
        "id": "-lLBnZHXOFln"
      },
      "source": [
        "*  Build a regression trees on each of 30 samples.\n",
        "*  Computed the predicted values of each data point(506 data points) in your corpus.\n",
        "*  Predicted house price of $i^{th}$ data point $y^{i}_{pred} =  \\frac{1}{30}\\sum_{k=1}^{30}(\\text{predicted value of } x^{i} \\text{ with } k^{th} \\text{ model})$\n",
        "*  Now calculate the $MSE =  \\frac{1}{506}\\sum_{i=1}^{506}(y^{i} - y^{i}_{pred})^{2}$"
      ]
    },
    {
      "cell_type": "markdown",
      "metadata": {
        "id": "Kls23JLnSN23"
      },
      "source": [
        "<font color='red'> <b>Step - 3 </b></font>"
      ]
    },
    {
      "cell_type": "markdown",
      "metadata": {
        "id": "rz2GchkGSWnh"
      },
      "source": [
        "*  <font color='blue'><b>Calculating the OOB score </b></font>"
      ]
    },
    {
      "cell_type": "markdown",
      "metadata": {
        "id": "DGHkVV2kSibm"
      },
      "source": [
        "*  Predicted house price of $i^{th}$ data point $y^{i}_{pred} =  \\frac{1}{k}\\sum_{\\text{k= model which was buit on samples not included } x^{i}}(\\text{predicted value of } x^{i} \\text{ with } k^{th} \\text{ model})$.\n",
        "*  Now calculate the $OOB Score =  \\frac{1}{506}\\sum_{i=1}^{506}(y^{i} - y^{i}_{pred})^{2}$."
      ]
    },
    {
      "cell_type": "markdown",
      "metadata": {
        "id": "RK860ocxTyoz"
      },
      "source": [
        "# <font color='red'><b>Task 2</b></font>"
      ]
    },
    {
      "cell_type": "markdown",
      "metadata": {
        "id": "1dme-N6TUCrY"
      },
      "source": [
        "*  <font color='blue'><b>Computing CI of OOB Score and Train MSE</b></font>\n",
        "  *   Repeat Task 1 for 35 times, and for each iteration store the Train MSE and OOB score </li>\n",
        "<li> After this we will have 35 Train MSE values and 35 OOB scores </li>\n",
        "<li> using these 35 values (assume like a sample) find the confidence intravels of MSE and OOB Score </li>\n",
        "<li> you need to report CI of MSE and CI of OOB Score </li>\n",
        "<li> Note: Refer the Central_Limit_theorem.ipynb to check how to find the confidence intravel</li>\n",
        "</ol>"
      ]
    },
    {
      "cell_type": "markdown",
      "metadata": {
        "id": "O6UcH1x9Uwrj"
      },
      "source": [
        "# <font color='red'><b>Task 3</b></font>"
      ]
    },
    {
      "cell_type": "markdown",
      "metadata": {
        "id": "bOC_AgsLU7OH"
      },
      "source": [
        "*  <font color='blue'><b>Given a single query point predict the price of house.</b></font>"
      ]
    },
    {
      "cell_type": "markdown",
      "metadata": {
        "id": "HYs5jSFdVILe"
      },
      "source": [
        "Consider xq= [0.18,20.0,5.00,0.0,0.421,5.60,72.2,7.95,7.0,30.0,19.1,372.13,18.60] \n",
        "Predict the house price for this point as mentioned in the step 2 of Task 1."
      ]
    },
    {
      "cell_type": "markdown",
      "metadata": {
        "id": "_6gxZEsFWm-8"
      },
      "source": [
        "<br><br><br>"
      ]
    },
    {
      "cell_type": "markdown",
      "metadata": {
        "id": "V2fHTdS_zpgG"
      },
      "source": [
        "# <font color='blue'> <b>Task - 1</b></font>"
      ]
    },
    {
      "cell_type": "markdown",
      "metadata": {
        "id": "e0yGBuryOwHz"
      },
      "source": [
        "<font color='blue'><b>Step - 1</b></font>"
      ]
    },
    {
      "cell_type": "markdown",
      "metadata": {
        "id": "lJXX8vf3z073"
      },
      "source": [
        "*  <font color='blue'> <b>Creating samples</b></font>"
      ]
    },
    {
      "cell_type": "markdown",
      "metadata": {
        "id": "CSVaWG1F4uCZ"
      },
      "source": [
        "<font color='Orange'><b>Algorithm</b></font>\n",
        "\n",
        "![alt text](https://i.imgur.com/BTVYXQ1.jpg/)"
      ]
    },
    {
      "cell_type": "markdown",
      "metadata": {
        "id": "f_oWoN97BhDY"
      },
      "source": [
        "*  <font color='blue'><b> Write code for generating samples</b></font>"
      ]
    },
    {
      "cell_type": "code",
      "metadata": {
        "id": "Ph_6D2SDzz7F"
      },
      "source": [
        "def generating_samples(input_data, target_data): \n",
        "  \n",
        "  rowsusedinlist = np.random.choice(len(input_data), 303, replace=False)\n",
        "  \n",
        "  rotwothreeextracfrorowselec = np.random.choice(rowsusedinlist, 203, replace=False)\n",
        "  \n",
        "  numbecolumtsele = random.randint(3, 13)\n",
        "  colslected = np.array(random.sample(range(0, 13), numbecolumtsele))\n",
        "  \n",
        "  samdat = input_data[rowsusedinlist[:, None], colslected]\n",
        "  \n",
        "  targosampata = target_data[rowsusedinlist]\n",
        "  \n",
        "  \n",
        "  replicasampdatpoi = input_data[rotwothreeextracfrorowselec[:, None], colslected ]\n",
        "  \n",
        "  targreplicasampta = target_data[rotwothreeextracfrorowselec]\n",
        "  \n",
        "  \n",
        "  finasampdat = np.vstack((samdat, replicasampdatpoi ))\n",
        "  \n",
        "  fintargeda = np.vstack((targosampata.reshape(-1, 1), targreplicasampta.reshape(-1, 1) ))\n",
        "  \n",
        "  return finasampdat, fintargeda, rowsusedinlist, colslected"
      ],
      "execution_count": 38,
      "outputs": []
    },
    {
      "cell_type": "markdown",
      "metadata": {
        "id": "MivEQFlm7iOg"
      },
      "source": [
        "<font color='cyan'> <b> Grader function - 1 </b> </fongt>"
      ]
    },
    {
      "cell_type": "code",
      "metadata": {
        "id": "AVvuhNzm7uld",
        "colab": {
          "base_uri": "https://localhost:8080/"
        },
        "outputId": "acf9b02d-cdd4-4640-a717-16be7d975ccb"
      },
      "source": [
        "def grader_samples(a,b,c,d):\n",
        "    length = (len(a)==506  and len(b)==506)\n",
        "    sampled = (len(a)-len(set([str(i) for i in a]))==203)\n",
        "    rows_length = (len(c)==303)\n",
        "    column_length= (len(d)>=3)\n",
        "    assert(length and sampled and rows_length and column_length)\n",
        "    return True\n",
        "a,b,c,d = generating_samples(x, y)\n",
        "grader_samples(a,b,c,d)"
      ],
      "execution_count": 39,
      "outputs": [
        {
          "output_type": "execute_result",
          "data": {
            "text/plain": [
              "True"
            ]
          },
          "metadata": {},
          "execution_count": 39
        }
      ]
    },
    {
      "cell_type": "markdown",
      "metadata": {
        "id": "b4LSsmn4Jn2_"
      },
      "source": [
        "*  <font color='blue'> <b>Create 30 samples </b>"
      ]
    },
    {
      "cell_type": "markdown",
      "metadata": {
        "id": "3ec7MN6sL2BZ"
      },
      "source": [
        "![alt text](https://i.imgur.com/p8eZaWL.jpg)"
      ]
    },
    {
      "cell_type": "code",
      "metadata": {
        "id": "XXlKWjCcBvTk"
      },
      "source": [
        "list_input_data =[]\n",
        "list_output_data =[]\n",
        "list_selected_row= []\n",
        "list_selected_columns=[]\n",
        "\n",
        "for i in range (0, 30):\n",
        "  a, b, c, d = generating_samples(x, y)\n",
        "  list_input_data.append(a)\n",
        "  list_output_data.append(b)\n",
        "  list_selected_row.append(c)\n",
        "  list_selected_columns.append(d)"
      ],
      "execution_count": 40,
      "outputs": []
    },
    {
      "cell_type": "markdown",
      "metadata": {
        "id": "MXUz9VFiMQkh"
      },
      "source": [
        "<font color='cyan'> <b>Grader function - 2 </b></font>"
      ]
    },
    {
      "cell_type": "code",
      "metadata": {
        "id": "hCvIq8NuMWOC",
        "colab": {
          "base_uri": "https://localhost:8080/"
        },
        "outputId": "78fd50a7-eeca-45b2-8c5f-0847ca2c5b45"
      },
      "source": [
        "def grader_30(a):\n",
        "    assert(len(a)==30 and len(a[0])==506)\n",
        "    return True\n",
        "grader_30(list_input_data)"
      ],
      "execution_count": 41,
      "outputs": [
        {
          "output_type": "execute_result",
          "data": {
            "text/plain": [
              "True"
            ]
          },
          "metadata": {},
          "execution_count": 41
        }
      ]
    },
    {
      "cell_type": "markdown",
      "metadata": {
        "id": "7Pv-mkZkO6dh"
      },
      "source": [
        "<br>"
      ]
    },
    {
      "cell_type": "markdown",
      "metadata": {
        "id": "whaHCPB0O8qF"
      },
      "source": [
        "<font color='red'><b>Step - 2 </b></font>"
      ]
    },
    {
      "cell_type": "markdown",
      "metadata": {
        "id": "XBy4zXSWPtU8"
      },
      "source": [
        "<font color='orange'><b>Flowchart for building tree</b></font>"
      ]
    },
    {
      "cell_type": "markdown",
      "metadata": {
        "id": "5xvH06HPQBdP"
      },
      "source": [
        "![alt text](https://i.imgur.com/pcXfSmp.png)"
      ]
    },
    {
      "cell_type": "markdown",
      "metadata": {
        "id": "WRwPO_uHQjul"
      },
      "source": [
        "*  <font color='blue'><b> Write code for building regression trees</b></font>"
      ]
    },
    {
      "cell_type": "code",
      "metadata": {
        "id": "YWQp6tRwMthq"
      },
      "source": [
        "DTlistflldels = []\n",
        "for indexvalue in range(0, 30):\n",
        "  allimodels = DecisionTreeRegressor(max_depth=None)\n",
        "  allimodels.fit(list_input_data[indexvalue], list_output_data[indexvalue])\n",
        "  DTlistflldels.append(allimodels)"
      ],
      "execution_count": 42,
      "outputs": []
    },
    {
      "cell_type": "markdown",
      "metadata": {
        "id": "21j8BKfAQ1U8"
      },
      "source": [
        "<font color='orange'><b>Flowchart for calculating MSE </b></font>"
      ]
    },
    {
      "cell_type": "markdown",
      "metadata": {
        "id": "8Q0mTBD2RBx_"
      },
      "source": [
        "![alt text](https://i.imgur.com/sPEE618.png)"
      ]
    },
    {
      "cell_type": "markdown",
      "metadata": {
        "id": "6e-UamlHRjPy"
      },
      "source": [
        "After getting predicted_y for each data point, we can use sklearns mean_squared_error to calculate the MSE between predicted_y and actual_y."
      ]
    },
    {
      "cell_type": "markdown",
      "metadata": {
        "id": "TnIMT7_oR312"
      },
      "source": [
        "*  <font color='blue'><b> Write code for calculating MSE</b></font>"
      ]
    },
    {
      "cell_type": "code",
      "metadata": {
        "id": "qWhcvMRWRA9b",
        "colab": {
          "base_uri": "https://localhost:8080/"
        },
        "outputId": "4e26b129-f2fe-4696-de5e-1d255eb31546"
      },
      "source": [
        "from sklearn.metrics import mean_squared_error\n",
        "from statistics import median\n",
        "\n",
        "BSarrayy = []\n",
        "\n",
        "for indexvalue in range(0, 30):\n",
        "  BSdatoin = x[:, list_selected_columns[indexvalue]]\n",
        "  BStargyi = DTlistflldels[indexvalue].predict(BSdatoin)\n",
        "  BSarrayy.append(BStargyi)\n",
        "  \n",
        "  \n",
        "BSpredictrraofrgey = np.array(BSarrayy)\n",
        "BSpredictrraofrgey = BSpredictrraofrgey.transpose()\n",
        "\n",
        "BSmediredictey = np.median(BSpredictrraofrgey, axis=1)\n",
        "BSmediredictey.shape\n",
        "\n",
        "print(\"MSE : \", mean_squared_error(y, BSmediredictey ))"
      ],
      "execution_count": 43,
      "outputs": [
        {
          "output_type": "stream",
          "name": "stdout",
          "text": [
            "MSE :  0.26708621541501976\n"
          ]
        }
      ]
    },
    {
      "cell_type": "markdown",
      "metadata": {
        "id": "RuclPDMnSz8F"
      },
      "source": [
        "<font color='blue'><b>Step - 3 </b></font>"
      ]
    },
    {
      "cell_type": "markdown",
      "metadata": {
        "id": "ESb9FSIDTM5V"
      },
      "source": [
        "<font color='orange'><b>Flowchart for calculating OOB score</b></font>"
      ]
    },
    {
      "cell_type": "markdown",
      "metadata": {
        "id": "HB-d6NMETbd9"
      },
      "source": [
        "![alt text](https://i.imgur.com/95S5Mtm.png)"
      ]
    },
    {
      "cell_type": "markdown",
      "metadata": {
        "id": "WW3GOcFzTqbt"
      },
      "source": [
        "Now calculate the $OOB Score =  \\frac{1}{506}\\sum_{i=1}^{506}(y^{i} - y^{i}_{pred})^{2}$."
      ]
    },
    {
      "cell_type": "markdown",
      "metadata": {
        "id": "zBqcS03pUYSZ"
      },
      "source": [
        "*  <font color='blue'><b> Write code for calculating OOB score </b></font>"
      ]
    },
    {
      "cell_type": "code",
      "metadata": {
        "id": "Fog_6DNdS-h_",
        "colab": {
          "base_uri": "https://localhost:8080/"
        },
        "outputId": "67c29fbb-cfd4-413a-ff0c-48477a443383"
      },
      "source": [
        "\n",
        "BSypredicoobmedialis = []\n",
        "\n",
        "for indexvalue in range(0, 506):\n",
        "  BSindicfoomode = []\n",
        "  \n",
        "\n",
        "  for BSindeob in range(0, 30):\n",
        "    if indexvalue not in list_selected_row[BSindeob]:\n",
        "      BSindicfoomode.append(BSindeob)\n",
        "      \n",
        "  BSpredictooist = []\n",
        "  \n",
        "  for BSoodelndex in BSindicfoomode:\n",
        "    BSmodob = DTlistflldels[BSoodelndex]\n",
        "    \n",
        "    BSrowob = x[indexvalue]\n",
        "    BSoodatpoi = [BSrowob[columns] for columns in list_selected_columns[BSoodelndex] ]\n",
        "\n",
        "    BSoodatpoi = np.array(BSoodatpoi).reshape(1, -1)\n",
        "    \n",
        "    BSpredictoodatpoi = BSmodob.predict(BSoodatpoi)\n",
        "    BSpredictooist.append(BSpredictoodatpoi)\n",
        "    # \n",
        "  BSpredictooist = np.array(BSpredictooist)\n",
        "  \n",
        "  BSpredictemedi = np.median(BSpredictooist)\n",
        "  BSypredicoobmedialis.append(BSpredictemedi)\n",
        "  \n",
        "\n",
        "def BSoutofbagscore(BSnurow):\n",
        "  BSooscor = 0\n",
        "  for indexvalue in range(0, BSnurow):\n",
        "    BSooscor += ((y[indexvalue] - BSypredicoobmedialis[indexvalue] ) ** 2)\n",
        "  FBSooscor = BSooscor/506\n",
        "  return FBSooscor\n",
        "\n",
        "print(\"Out of bag score \", BSoutofbagscore(506))"
      ],
      "execution_count": 44,
      "outputs": [
        {
          "output_type": "stream",
          "name": "stdout",
          "text": [
            "Out of bag score  13.373980989240223\n"
          ]
        }
      ]
    },
    {
      "cell_type": "markdown",
      "metadata": {
        "id": "sbuiwX3OUjUI"
      },
      "source": [
        "# <font color='blue'><b>Task 2</b></font>"
      ]
    },
    {
      "cell_type": "code",
      "metadata": {
        "id": "ceW5-D88Uswi",
        "colab": {
          "base_uri": "https://localhost:8080/"
        },
        "outputId": "2c4ae71b-241a-4bfb-a381-e5e26237b312"
      },
      "source": [
        "\n",
        "def BSoob(x, y):\n",
        "\n",
        "  list_input_data =[]\n",
        "  list_output_data =[]\n",
        "  list_selected_row= []\n",
        "  list_selected_columns=[]\n",
        "  \n",
        "  for i in range (0, 30):\n",
        "    a, b, c, d = generating_samples(x, y)\n",
        "    list_input_data.append(a)\n",
        "    list_output_data.append(b)\n",
        "    list_selected_row.append(c)\n",
        "    list_selected_columns.append(d)\n",
        "  \n",
        "\n",
        "  DTlistflldels = []\n",
        "  for i in range(0, 30):\n",
        "    BSmodei = DecisionTreeRegressor(max_depth=None)\n",
        "    BSmodei.fit(list_input_data[i], list_output_data[i])\n",
        "    DTlistflldels.append(BSmodei)\n",
        "  \n",
        "  BSarrayy = []\n",
        "\n",
        "  for i in range(0, 30):\n",
        "    BSdatpoini = x[:, list_selected_columns[i]]\n",
        "    BStargei = DTlistflldels[i].predict(BSdatpoini)\n",
        "    BSarrayy.append(BStargei)\n",
        "    \n",
        "    \n",
        "  BSpredictarratargy = np.array(BSarrayy)\n",
        "  BSpredictarratargy = BSpredictarratargy.transpose()\n",
        "\n",
        "  BSmediredicte = np.median(BSpredictarratargy, axis=1)\n",
        "  \n",
        "  BSmeansqerr = mean_squared_error(y, BSmediredicte )\n",
        "  \n",
        "  BSypredicoobmedialis = []\n",
        "\n",
        "  for i in range(0, 506):\n",
        "    BSindicfoomode = []\n",
        "    \n",
        "    for BSindeob in range(0, 30):\n",
        "      if i not in list_selected_row[BSindeob]:\n",
        "        BSindicfoomode.append(BSindeob)\n",
        "        \n",
        "    BSypredicteooist = []\n",
        "    \n",
        "    for BSoomodeind in BSindicfoomode:\n",
        "      BSmodeob = DTlistflldels[BSoomodeind]\n",
        "      \n",
        "      BSrowob = x[i]\n",
        "      \n",
        "      BSxoodatpoit = [BSrowob[col] for col in list_selected_columns[BSoomodeind] ]\n",
        "      BSxoodatpoit = np.array(BSxoodatpoit).reshape(1, -1)\n",
        "      \n",
        "      BSyedictedobatoint = BSmodeob.predict(BSxoodatpoit)\n",
        "      BSypredicteooist.append(BSyedictedobatoint)\n",
        "    BSypredicteooist = np.array(BSypredicteooist)\n",
        "    \n",
        "    BSpredicemedia = np.median(BSypredicteooist)\n",
        "    BSypredicoobmedialis.append(BSpredicemedia)\n",
        "    \n",
        "\n",
        "  BSoobcore = 0\n",
        "\n",
        "  for i in range(0, 506):\n",
        "    BSoobcore += (y[i] - BSypredicoobmedialis[i] ) ** 2\n",
        "\n",
        "  FBSoobcore = BSoobcore/506\n",
        "  \n",
        "  return BSmeansqerr, FBSoobcore\n",
        "\n",
        "print(BSoob(x, y))"
      ],
      "execution_count": 45,
      "outputs": [
        {
          "output_type": "stream",
          "name": "stdout",
          "text": [
            "(0.01757411067193675, 15.649594861660077)\n"
          ]
        }
      ]
    },
    {
      "cell_type": "code",
      "metadata": {
        "colab": {
          "base_uri": "https://localhost:8080/"
        },
        "id": "dG5HvQU6STu6",
        "outputId": "9e7e6dd2-ad6e-4116-f42c-dd62873ce9c7"
      },
      "source": [
        "import scipy\n",
        "\n",
        "x=boston.data\n",
        "y=boston.target\n",
        "\n",
        "BSmsbostotimerr = []\n",
        "BSoocorbostorftimesrr = []\n",
        "\n",
        "\n",
        "for indexvalue in range(0, 35):\n",
        "  BSmeansqerrs, BSooscor = BSoob(x, y)\n",
        "  BSmsbostotimerr.append(BSmeansqerrs)\n",
        "  BSoocorbostorftimesrr.append(BSooscor)\n",
        "\n",
        "\n",
        "BSmsbostotimerr = np.array(BSmsbostotimerr)\n",
        "BSoocorbostorftimesrr = np.array(BSoocorbostorftimesrr)\n",
        "\n",
        "BScondencevel = 0.95\n",
        "BSdegreeofreed = 34\n",
        "\n",
        "BSmeaosampms = np.mean(BSmsbostotimerr)\n",
        "BSstandaerroptf = scipy.stats.sem(BSmsbostotimerr)\n",
        "\n",
        "\n",
        "BSconfidenintervamstf = scipy.stats.t.interval(BScondencevel, BSdegreeofreed, BSmeaosampms, BSstandaerroptf )\n",
        "print(\"Confidence Interval Mean Square error \", BSconfidenintervamstf)\n",
        "\n",
        "BSmeaosamploscotf = np.mean(BSoocorbostorftimesrr)\n",
        "BSstandaerrosamplooscotf = scipy.stats.sem(BSoocorbostorftimesrr)\n",
        "\n",
        "confideninteroscotf = scipy.stats.t.interval(BScondencevel, BSdegreeofreed, BSmeaosamploscotf, BSstandaerroptf )\n",
        "print(\"Confidence Interval Out of Bag \", confideninteroscotf)"
      ],
      "execution_count": 46,
      "outputs": [
        {
          "output_type": "stream",
          "name": "stdout",
          "text": [
            "Confidence Interval Mean Square error  (0.05779378053526239, 0.11401200030739549)\n",
            "Confidence Interval Out of Bag  (14.492009715193069, 14.548227934965203)\n"
          ]
        }
      ]
    },
    {
      "cell_type": "markdown",
      "metadata": {
        "id": "jKTnJdiBVS_e"
      },
      "source": [
        "# <font color='blue'><b>Task 3</b></font>"
      ]
    },
    {
      "cell_type": "markdown",
      "metadata": {
        "id": "eXxrvZqHV1Fr"
      },
      "source": [
        "<font color='orange'><b>Flowchart for Task 3</b></font>"
      ]
    },
    {
      "cell_type": "markdown",
      "metadata": {
        "id": "NyjwEJ62V6a6"
      },
      "source": [
        "<b>Hint: </b> We created 30 models by using 30 samples in TASK-1. Here, we need send query point \"xq\"  to 30 models and perform the regression on the output generated by 30 models."
      ]
    },
    {
      "cell_type": "markdown",
      "metadata": {
        "id": "0emSwLL7VurD"
      },
      "source": [
        "![alt text](https://i.imgur.com/Y5cNhQk.png)"
      ]
    },
    {
      "cell_type": "markdown",
      "metadata": {
        "id": "29hjwKlWWDfo"
      },
      "source": [
        "*  <font color='blue'><b> Write code for TASK 3 </b></font>"
      ]
    },
    {
      "cell_type": "code",
      "metadata": {
        "id": "i_pUlSD-VYD1",
        "colab": {
          "base_uri": "https://localhost:8080/"
        },
        "outputId": "4204fccb-f41b-4678-e7b2-ff790fe6803e"
      },
      "source": [
        "def BSpredicveotstrap(BSxuery):\n",
        "  BSypredictarrasamp = []\n",
        "  \n",
        "  for indexvalue in range(0, 30):\n",
        "    BSmodei = DTlistflldels[indexvalue]\n",
        "    \n",
        "    BSxdatpoini = [BSxuery[col] for col in list_selected_columns[indexvalue]]\n",
        "    BSxdatpoini = np.array(BSxdatpoini).reshape(1, -1)\n",
        "    BSyredictei = BSmodei.predict(BSxdatpoini)\n",
        "    BSypredictarrasamp.append(BSyredictei)\n",
        "    \n",
        "  BSypredictarrasamp = np.array(BSypredictarrasamp)\n",
        "  BSyedicteedian = np.median(BSypredictarrasamp)\n",
        "  return BSyedicteedian\n",
        "\n",
        "\n",
        "xq= [0.18,20.0,5.00,0.0,0.421,5.60,72.2,7.95,7.0,30.0,19.1,372.13,18.60] \n",
        "BSypredictfoq = BSpredicveotstrap(xq)\n",
        "BSypredictfoq"
      ],
      "execution_count": 47,
      "outputs": [
        {
          "output_type": "execute_result",
          "data": {
            "text/plain": [
              "18.5"
            ]
          },
          "metadata": {},
          "execution_count": 47
        }
      ]
    },
    {
      "cell_type": "markdown",
      "metadata": {
        "id": "DJHTGEZgWJjR"
      },
      "source": [
        "<br><br><br>"
      ]
    },
    {
      "cell_type": "markdown",
      "metadata": {
        "id": "IOdUi-0xWOJ9"
      },
      "source": [
        "<font color='red'><b>Write observations for task 1, task 2, task 3 indetail</b></font>"
      ]
    },
    {
      "cell_type": "code",
      "metadata": {
        "id": "AIcax45hWKT-"
      },
      "source": [
        "#Mean Square error 13.37\n",
        "\n",
        "#Mean square error 95% chance such that CI of (0.05779378053526239, 0.11401200030739549) contains mean  Mean square error.\n",
        "#Out of Bag Score 95% chance such that CI of (14.492009715193069, 14.548227934965203) contains  mean  Out of Bag Score.\n",
        "\n",
        "#Regression on the output generated by 30 models is 18.5"
      ],
      "execution_count": 49,
      "outputs": []
    }
  ]
}