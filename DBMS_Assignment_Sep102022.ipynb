{
  "nbformat": 4,
  "nbformat_minor": 0,
  "metadata": {
    "colab": {
      "provenance": [],
      "collapsed_sections": []
    },
    "kernelspec": {
      "name": "python3",
      "display_name": "Python 3"
    },
    "language_info": {
      "name": "python"
    }
  },
  "cells": [
    {
      "cell_type": "code",
      "execution_count": null,
      "metadata": {
        "id": "ovkELpuSyyGC"
      },
      "outputs": [],
      "source": [
        "import pandas as pd\n",
        "import sqlite3\n",
        "\n",
        "from IPython.display import display, HTML"
      ]
    },
    {
      "cell_type": "code",
      "source": [
        "conn = sqlite3.connect(\"/content/Db-IMDB-Assignment.db\")"
      ],
      "metadata": {
        "id": "4NHrRYZr37t_"
      },
      "execution_count": null,
      "outputs": []
    },
    {
      "cell_type": "code",
      "source": [
        "tables = pd.read_sql_query(\"SELECT NAME AS 'Table_Name' FROM sqlite_master WHERE type='table'\",conn)\n",
        "tables = tables[\"Table_Name\"].values.tolist()\n",
        "print(tables)"
      ],
      "metadata": {
        "colab": {
          "base_uri": "https://localhost:8080/"
        },
        "id": "OTzPtiG83-cy",
        "outputId": "53b5068e-347f-4f79-dfad-889cb3b4b8bb"
      },
      "execution_count": null,
      "outputs": [
        {
          "output_type": "stream",
          "name": "stdout",
          "text": [
            "['Movie', 'Genre', 'Language', 'Country', 'Location', 'M_Location', 'M_Country', 'M_Language', 'M_Genre', 'Person', 'M_Producer', 'M_Director', 'M_Cast']\n"
          ]
        }
      ]
    },
    {
      "cell_type": "code",
      "source": [
        "%load_ext sql\n",
        "%sql sqlite:///Db-IMDB-Assignment.db"
      ],
      "metadata": {
        "colab": {
          "base_uri": "https://localhost:8080/",
          "height": 35
        },
        "id": "R2ZPRk0a4BNb",
        "outputId": "de781c79-8716-4b92-c033-163f3f795302"
      },
      "execution_count": null,
      "outputs": [
        {
          "output_type": "execute_result",
          "data": {
            "text/plain": [
              "'Connected: @Db-IMDB-Assignment.db'"
            ],
            "application/vnd.google.colaboratory.intrinsic+json": {
              "type": "string"
            }
          },
          "metadata": {},
          "execution_count": 4
        }
      ]
    },
    {
      "cell_type": "code",
      "source": [
        "%%time\n",
        "%%sql\n",
        "\n",
        "UPDATE Movie SET year = REPLACE(year, \"I\", \"\");\n",
        "UPDATE Movie SET year = REPLACE(year, \"V\", \"\");\n",
        "UPDATE Movie SET year = REPLACE(year, \"X \", \"\");\n",
        "UPDATE Movie SET title = LTRIM(title);\n",
        "UPDATE Movie SET year = RTRIM(LTRIM(year));\n",
        "UPDATE Movie SET rating = RTRIM(LTRIM(rating));\n",
        "UPDATE Movie SET num_votes = RTRIM(LTRIM(num_votes));\n",
        "UPDATE M_Producer SET pid = RTRIM(LTRIM(pid));\n",
        "UPDATE M_Producer SET mid = RTRIM(LTRIM(mid));\n",
        "UPDATE M_Director SET pid = RTRIM(LTRIM(pid));\n",
        "UPDATE M_Director SET mid = RTRIM(LTRIM(mid));\n",
        "UPDATE M_Cast SET pid = RTRIM(LTRIM(pid));\n",
        "UPDATE M_Cast SET mid = RTRIM(LTRIM(mid));\n",
        "UPDATE M_Genre SET gid = RTRIM(LTRIM(gid));\n",
        "UPDATE M_Genre SET mid = RTRIM(LTRIM(mid));\n",
        "UPDATE Genre SET gid = RTRIM(LTRIM(gid));\n",
        "UPDATE Genre SET name = RTRIM(LTRIM(name));\n",
        "UPDATE Person SET name = RTRIM(LTRIM(name));\n",
        "UPDATE Person SET pid = RTRIM(LTRIM(pid));\n",
        "UPDATE Person SET gender = RTRIM(LTRIM(gender));"
      ],
      "metadata": {
        "colab": {
          "base_uri": "https://localhost:8080/"
        },
        "id": "XpVxMEwC4FJH",
        "outputId": "9f376f4d-06b8-4458-d5f5-5260584c62cf"
      },
      "execution_count": null,
      "outputs": [
        {
          "output_type": "stream",
          "name": "stdout",
          "text": [
            " * sqlite:///Db-IMDB-Assignment.db\n",
            "3473 rows affected.\n",
            "3473 rows affected.\n",
            "3473 rows affected.\n",
            "3473 rows affected.\n",
            "3473 rows affected.\n",
            "3473 rows affected.\n",
            "3473 rows affected.\n",
            "11749 rows affected.\n",
            "11749 rows affected.\n",
            "3473 rows affected.\n",
            "3473 rows affected.\n",
            "82835 rows affected.\n",
            "82835 rows affected.\n",
            "3473 rows affected.\n",
            "3473 rows affected.\n",
            "328 rows affected.\n",
            "328 rows affected.\n",
            "37566 rows affected.\n",
            "37566 rows affected.\n",
            "37566 rows affected.\n",
            "CPU times: user 208 ms, sys: 81.4 ms, total: 289 ms\n",
            "Wall time: 574 ms\n"
          ]
        },
        {
          "output_type": "execute_result",
          "data": {
            "text/plain": [
              "[]"
            ]
          },
          "metadata": {},
          "execution_count": 5
        }
      ]
    },
    {
      "cell_type": "markdown",
      "source": [
        "Q1 --- List all the directors who directed a 'Comedy' movie in a leap year. (You need to check that the genre is 'Comedy’ and year is a leap year) Your query should return director name, the movie name, and the year."
      ],
      "metadata": {
        "id": "a4HoZ5r3BvZH"
      }
    },
    {
      "cell_type": "code",
      "source": [
        "#%%time\n",
        "def grader_1(q1):\n",
        "    q1_results  = pd.read_sql_query(q1,conn)\n",
        "    print(q1_results.head(10))\n",
        "    assert (q1_results.shape == (232,3))\n",
        "\n",
        "query1 = \"\"\" SELECT persontable.Name AS 'Person_Name_Director', movie_Table.title AS 'Movie Title Name', movie_Table.\"year\" AS 'Movie Year_Wise' FROM Person persontable \n",
        "JOIN M_Director moviedirec_Table ON moviedirec_Table.PID = persontable.PID  \n",
        "JOIN Movie movie_Table ON movie_Table.MID = moviedirec_Table.MID  \n",
        "JOIN M_Genre moviegen_Table ON moviegen_Table.MID = movie_Table.MID \n",
        "JOIN Genre gen_Table ON gen_Table.GID = moviegen_Table.GID  \n",
        "WHERE gen_Table.Name LIKE '%Com%' AND (movie_Table.\"year\" % 4 == 0 OR movie_Table.\"year\" % 100 != 0 AND movie_Table.\"year\" % 400 == 0)\"\"\"\n",
        "grader_1(query1)"
      ],
      "metadata": {
        "colab": {
          "base_uri": "https://localhost:8080/"
        },
        "id": "5B9uyU6e4JTl",
        "outputId": "652a8dd2-0568-4d18-e812-03aacbd228eb"
      },
      "execution_count": null,
      "outputs": [
        {
          "output_type": "stream",
          "name": "stdout",
          "text": [
            "  Person_Name_Director                   Movie Title Name Movie Year_Wise\n",
            "0         Milap Zaveri                         Mastizaade            2016\n",
            "1         Danny Leiner  Harold & Kumar Go to White Castle            2004\n",
            "2       Anurag Kashyap                 Gangs of Wasseypur            2012\n",
            "3         Frank Coraci        Around the World in 80 Days            2004\n",
            "4        Griffin Dunne             The Accidental Husband            2008\n",
            "5          Anurag Basu                             Barfi!            2012\n",
            "6      Gurinder Chadha                  Bride & Prejudice            2004\n",
            "7           Mike Judge    Beavis and Butt-Head Do America            1996\n",
            "8     Tarun Mansukhani                            Dostana            2008\n",
            "9         Shakun Batra                      Kapoor & Sons            2016\n"
          ]
        }
      ]
    },
    {
      "cell_type": "markdown",
      "source": [
        "Q2 --- List the names of all the actors who played in the movie 'Anand' (1971)"
      ],
      "metadata": {
        "id": "bac7mSILL9P3"
      }
    },
    {
      "cell_type": "code",
      "source": [
        "%%time\n",
        "def grader_2(q2):\n",
        "    q2_results  = pd.read_sql_query(q2,conn)\n",
        "    print(q2_results.head(10))\n",
        "    assert (q2_results.shape == (17,1))\n",
        "\n",
        "\n",
        "query2 = \"\"\" select persontable.Name from Person persontable join M_Cast mov_Cast_table on persontable.PID=TRIM(mov_Cast_table.PID) join Movie movie_Table on movie_Table.MID=mov_Cast_table.MID where movie_Table.title='Anand' and movie_Table.\"year\"=1971 \"\"\"\n",
        "grader_2(query2)"
      ],
      "metadata": {
        "colab": {
          "base_uri": "https://localhost:8080/"
        },
        "id": "Z3hP8IQ8SZLW",
        "outputId": "c0b7394d-e251-47f4-b10d-258f61829163"
      },
      "execution_count": null,
      "outputs": [
        {
          "output_type": "stream",
          "name": "stdout",
          "text": [
            "               Name\n",
            "0  Amitabh Bachchan\n",
            "1     Rajesh Khanna\n",
            "2    Brahm Bhardwaj\n",
            "3        Ramesh Deo\n",
            "4         Seema Deo\n",
            "5        Dev Kishan\n",
            "6       Durga Khote\n",
            "7     Lalita Kumari\n",
            "8      Lalita Pawar\n",
            "9      Atam Prakash\n",
            "CPU times: user 155 ms, sys: 1.51 ms, total: 156 ms\n",
            "Wall time: 157 ms\n"
          ]
        }
      ]
    },
    {
      "cell_type": "markdown",
      "source": [
        "Q3 --- List all the actors who acted in a film before 1970 and in a film after 1990. (That is: < 1970 and > 1990.)"
      ],
      "metadata": {
        "id": "UNslJEPsVVyQ"
      }
    },
    {
      "cell_type": "code",
      "source": [
        "%%time\n",
        "\n",
        "def grader_3a(query_less_1970, query_more_1990):\n",
        "    q3_a = pd.read_sql_query(query_less_1970,conn)\n",
        "    print(q3_a.shape)\n",
        "    q3_b = pd.read_sql_query(query_more_1990,conn)\n",
        "    print(q3_b.shape)\n",
        "    return (q3_a.shape == (4942,1)) and (q3_b.shape == (62570,1))\n",
        "\n",
        "\n",
        "query_less_1970 =\"\"\"SELECT TRIM(persontable.PID) FROM Person persontable JOIN M_Cast mov_Cast_table ON persontable.PID = TRIM(mov_Cast_table.PID) JOIN Movie movie_Table ON TRIM(movie_Table.MID) = TRIM(mov_Cast_table.MID) WHERE CAST(SUBSTR(movie_Table.\"year\",-4) AS INTEGER) < 1970\"\"\"\n",
        "query_more_1990=\"\"\"SELECT TRIM(persontable.PID) FROM Person persontable JOIN M_Cast mov_Cast_table ON persontable.PID = TRIM(mov_Cast_table.PID) JOIN Movie movie_Table ON TRIM(movie_Table.MID) = TRIM(mov_Cast_table.MID) WHERE CAST(SUBSTR(movie_Table.\"year\",-4) AS INTEGER) > 1990\"\"\" \n",
        "\n",
        "\n",
        "print(grader_3a(query_less_1970, query_more_1990))\n"
      ],
      "metadata": {
        "colab": {
          "base_uri": "https://localhost:8080/"
        },
        "id": "2Dlup3l8Vdvk",
        "outputId": "20a4f617-cbd6-4624-d03e-2a375e6bcebf"
      },
      "execution_count": null,
      "outputs": [
        {
          "output_type": "stream",
          "name": "stdout",
          "text": [
            "(4942, 1)\n",
            "(62570, 1)\n",
            "True\n",
            "CPU times: user 39.1 s, sys: 3.32 s, total: 42.4 s\n",
            "Wall time: 42.4 s\n"
          ]
        }
      ]
    },
    {
      "cell_type": "code",
      "source": [
        "%%time\n",
        "def grader_3(q3):\n",
        "    q3_results  = pd.read_sql_query(q3,conn)\n",
        "    print(q3_results.head(10))\n",
        "    assert (q3_results.shape == (300,1))\n",
        "\n",
        "query3 = \"\"\"WITH CAST_ON_1970 AS (SELECT TRIM(persontable.PID) FROM Person persontable JOIN M_Cast mov_Cast_table ON persontable.PID = TRIM(mov_Cast_table.PID) JOIN Movie movie_Table ON movie_Table.MID = mov_Cast_table.MID WHERE movie_Table.\"year\" < 1970), CAST_ON_1990 AS (SELECT TRIM(persontable.PID) FROM Person persontable JOIN M_Cast mov_Cast_table ON persontable.PID = TRIM(mov_Cast_table.PID) JOIN Movie movie_Table ON movie_Table.MID = mov_Cast_table.MID WHERE movie_Table.\"year\" > 1990) SELECT persontable.Name AS 'Name of actor' FROM Person persontable WHERE TRIM(PID) IN CAST_ON_1970 AND TRIM(persontable.PID) IN CAST_ON_1990\"\"\"\n",
        "print(grader_3(query3))"
      ],
      "metadata": {
        "colab": {
          "base_uri": "https://localhost:8080/"
        },
        "id": "ciToH2jydqPw",
        "outputId": "5248c071-bb35-44ce-efa4-4c08a5537911"
      },
      "execution_count": null,
      "outputs": [
        {
          "output_type": "stream",
          "name": "stdout",
          "text": [
            "      Name of actor\n",
            "0      Rishi Kapoor\n",
            "1  Amitabh Bachchan\n",
            "2            Asrani\n",
            "3      Zohra Sehgal\n",
            "4   Parikshat Sahni\n",
            "5     Rakesh Sharma\n",
            "6       Sanjay Dutt\n",
            "7         Ric Young\n",
            "8             Yusuf\n",
            "9    Suhasini Mulay\n",
            "None\n",
            "CPU times: user 403 ms, sys: 13.4 ms, total: 417 ms\n",
            "Wall time: 417 ms\n"
          ]
        }
      ]
    },
    {
      "cell_type": "markdown",
      "source": [
        "Q4 --- List all directors who directed 10 movies or more, in descending order of the number of movies they directed. Return the directors' names and the number of movies each of them directed."
      ],
      "metadata": {
        "id": "dkc0NOVoUgU7"
      }
    },
    {
      "cell_type": "code",
      "source": [
        "%%time\n",
        "\n",
        "def grader_4a(query_4a):\n",
        "    query_4a = pd.read_sql_query(query_4a,conn)\n",
        "    #print(query_4a.count)\n",
        "    print(query_4a.head(10)) \n",
        "    return (query_4a.shape == (1462,2))\n",
        "\n",
        "\n",
        "query_4a =\"\"\"select distinct movi_dir.PID as Person_ID,count(*) as count_of_movies from M_Director movi_dir group by movi_dir.PID order by count_of_movies desc\"\"\"\n",
        "\n",
        "print(grader_4a(query_4a))\n"
      ],
      "metadata": {
        "colab": {
          "base_uri": "https://localhost:8080/"
        },
        "id": "hxwlU38tWFo1",
        "outputId": "42d33821-878d-4628-eb9b-df89a5685f36"
      },
      "execution_count": null,
      "outputs": [
        {
          "output_type": "stream",
          "name": "stdout",
          "text": [
            "   Person_ID  count_of_movies\n",
            "0  nm0223522               39\n",
            "1  nm0080315               35\n",
            "2  nm0698184               30\n",
            "3  nm0890060               30\n",
            "4  nm0080333               29\n",
            "5  nm0611531               27\n",
            "6  nm0007181               21\n",
            "7  nm0154113               19\n",
            "8  nm0759662               19\n",
            "9  nm0007131               18\n",
            "True\n",
            "CPU times: user 11.6 ms, sys: 1.98 ms, total: 13.6 ms\n",
            "Wall time: 13.6 ms\n"
          ]
        }
      ]
    },
    {
      "cell_type": "code",
      "source": [
        "%%time\n",
        "\n",
        "def grader_4a(query_4a):\n",
        "    query_4a = pd.read_sql_query(query_4a,conn)\n",
        "    print(query_4a.head(10)) \n",
        "    return (query_4a.shape == (58,2))\n",
        "\n",
        "\n",
        "query_4a=\"\"\"select distinct person_table.Name PersonDirector,Count(*) Movie_Count from Person person_table join M_Director direct_name on person_table.PID=direct_name.PID group by direct_name.PID having count(*)>=10 order by Movie_Count desc\"\"\"\n",
        "print(grader_4a(query_4a))"
      ],
      "metadata": {
        "colab": {
          "base_uri": "https://localhost:8080/"
        },
        "id": "Rh7FGbVYZFfX",
        "outputId": "c646b3fc-619c-4bed-a0c3-877596053d61"
      },
      "execution_count": null,
      "outputs": [
        {
          "output_type": "stream",
          "name": "stdout",
          "text": [
            "         PersonDirector  Movie_Count\n",
            "0          David Dhawan           39\n",
            "1          Mahesh Bhatt           35\n",
            "2          Priyadarshan           30\n",
            "3       Ram Gopal Varma           30\n",
            "4          Vikram Bhatt           29\n",
            "5  Hrishikesh Mukherjee           27\n",
            "6           Yash Chopra           21\n",
            "7       Basu Chatterjee           19\n",
            "8        Shakti Samanta           19\n",
            "9          Subhash Ghai           18\n",
            "True\n",
            "CPU times: user 29.6 ms, sys: 832 µs, total: 30.5 ms\n",
            "Wall time: 33.3 ms\n"
          ]
        }
      ]
    },
    {
      "cell_type": "markdown",
      "source": [
        "Q5.a --- For each year, count the number of movies in that year that had only female actors."
      ],
      "metadata": {
        "id": "PhiJaAmQbUA-"
      }
    },
    {
      "cell_type": "code",
      "source": [
        "%%time\n",
        "def grader_5a(q5a):\n",
        "    q5a_results  = pd.read_sql_query(q5a,conn)\n",
        "    print(q5a_results.head(10))\n",
        "    assert (q5a_results.shape == (4,2))\n",
        "\n",
        "query5a = \"\"\" select movie_Table.year as Year_Values, count(*) as Number_of_Movies from Movie movie_Table join(select distinct mid from M_Cast where mid not in(select mov_Cast_table.mid from M_Cast mov_Cast_table join Person person_table on person_table.pid = trim(mov_Cast_table.pid) where person_table.gender = 'Male'))subqueryname on subqueryname.mid = movie_Table.mid group by movie_Table.year \"\"\"\n",
        "grader_5a(query5a)"
      ],
      "metadata": {
        "colab": {
          "base_uri": "https://localhost:8080/"
        },
        "id": "HJNDRSPvefLQ",
        "outputId": "41156da3-5899-45d6-ab94-8eb3f8ad5c64"
      },
      "execution_count": null,
      "outputs": [
        {
          "output_type": "stream",
          "name": "stdout",
          "text": [
            "  Year_Values  Number_of_Movies\n",
            "0        1939                 1\n",
            "1        1999                 1\n",
            "2        2000                 1\n",
            "3        2018                 1\n",
            "CPU times: user 315 ms, sys: 0 ns, total: 315 ms\n",
            "Wall time: 440 ms\n"
          ]
        }
      ]
    },
    {
      "cell_type": "markdown",
      "source": [
        "Q5.b --- Now include a small change: report for each year the percentage of movies in that year with only female actors, and the total number of movies made that year. For example, one answer will be: 1990 31.81 13522 meaning that in 1990 there were 13,522 movies, and 31.81% had only female actors. You do not need to round your answer."
      ],
      "metadata": {
        "id": "-dAsi6kJjADc"
      }
    },
    {
      "cell_type": "code",
      "source": [
        "%%time\n",
        "def grader_5b(q5b):\n",
        "    q5b_results  = pd.read_sql_query(q5b,conn)\n",
        "    print(q5b_results.head(10))\n",
        "    assert (q5b_results.shape == (4,3))\n",
        "\n",
        "query5b = \"\"\" WITH  nfmk AS (SELECT TRIM(mov_Cast_table.MID) FROM M_Cast mov_Cast_table INNER JOIN Person person_table ON person_table.PID = TRIM(mov_Cast_table.PID) WHERE person_table.Gender in ('Male', NULL) GROUP BY mov_Cast_table.MID), numberfemalemov AS (SELECT movie_Table.MID FROM Movie movie_Table INNER JOIN M_Cast mov_Cast_table ON TRIM(mov_Cast_table.MID) = movie_Table.MID WHERE TRIM(movie_Table.MID) NOT IN nfmk AND mov_Cast_table.PID NOTNULL GROUP BY movie_Table.MID), ayr AS (SELECT movie_Table.\"year\", COUNT(*) AS 'tnm' FROM Movie as movie_Table GROUP BY movie_Table.\"year\") SELECT movie_Table.\"year\" as YearWise, COUNT(movie_Table.\"year\") AS Number_of_movies_by_female, COUNT(movie_Table.\"year\") * 100 / a.tnm AS '% age of movies by female' FROM Movie movie_Table INNER JOIN numberfemalemov nfm ON nfm.MID = movie_Table.MID INNER JOIN ayr a ON movie_Table.\"year\" = a.\"year\" GROUP BY movie_Table.\"year\" ORDER BY movie_Table.\"year\" \"\"\"\n",
        "grader_5b(query5b)"
      ],
      "metadata": {
        "colab": {
          "base_uri": "https://localhost:8080/"
        },
        "id": "ts91UQyIMajj",
        "outputId": "0579fb56-7a3b-4d2e-b5b9-5674af903daf"
      },
      "execution_count": null,
      "outputs": [
        {
          "output_type": "stream",
          "name": "stdout",
          "text": [
            "  YearWise  Number_of_movies_by_female  % age of movies by female\n",
            "0     1939                           1                         50\n",
            "1     1999                           1                          1\n",
            "2     2000                           1                          1\n",
            "3     2018                           1                          0\n",
            "CPU times: user 231 ms, sys: 2.29 ms, total: 233 ms\n",
            "Wall time: 236 ms\n"
          ]
        }
      ]
    },
    {
      "cell_type": "markdown",
      "source": [
        "Q6 --- Find the film(s) with the largest cast. Return the movie title and the size of the cast. By \"cast size\" we mean the number of distinct actors that played in that movie: if an actor played multiple roles, or if it simply occurs multiple times in casts, we still count her/him only once."
      ],
      "metadata": {
        "id": "t-C4BPQVok8j"
      }
    },
    {
      "cell_type": "code",
      "source": [
        "%%time\n",
        "def grader_6(q6):\n",
        "    q6_results  = pd.read_sql_query(q6,conn)\n",
        "    print(q6_results.head(10))\n",
        "    assert (q6_results.shape == (3473, 2))\n",
        "\n",
        "query6=\"\"\"select movie_Table.title 'Title of Movie',count(distinct(mov_Cast_table.PID)) Size_of_the_Cast from movie movie_Table join M_Cast mov_Cast_table on mov_Cast_table.MID=movie_Table.MID group by movie_Table.MID order by Size_of_the_Cast\"\"\"                            \n",
        "grader_6(query6)"
      ],
      "metadata": {
        "colab": {
          "base_uri": "https://localhost:8080/"
        },
        "id": "IbmG7Vm2pWko",
        "outputId": "c4611c1b-f926-4c83-fe10-9e7bf82b35e3"
      },
      "execution_count": null,
      "outputs": [
        {
          "output_type": "stream",
          "name": "stdout",
          "text": [
            "                                    Title of Movie  Size_of_the_Cast\n",
            "0                                       Kala Jigar                 1\n",
            "1                                Return of Hanuman                 1\n",
            "2                                      Subah Subah                 1\n",
            "3  Chaar Sahibzaade 2: Rise of Banda Singh Bahadur                 1\n",
            "4                            Vaibhav Sethia: Don't                 1\n",
            "5                                Raja Aur Rangeeli                 2\n",
            "6                                           Anjaam                 2\n",
            "7                                         Ram Raaj                 2\n",
            "8                              Mumbai Delhi Mumbai                 2\n",
            "9                                 Chaar Sahibzaade                 2\n",
            "CPU times: user 174 ms, sys: 20.5 ms, total: 194 ms\n",
            "Wall time: 194 ms\n"
          ]
        }
      ]
    },
    {
      "cell_type": "markdown",
      "source": [
        "Q7 --- A decade is a sequence of 10 consecutive years.\n",
        "For example, say in your database you have movie information starting from 1931.\n",
        "the first decade is 1931, 1932, ..., 1940,\n",
        "the second decade is 1932, 1933, ..., 1941 and so on.\n",
        "Find the decade D with the largest number of films and the total number of films in D"
      ],
      "metadata": {
        "id": "LsMKsKuq3PZC"
      }
    },
    {
      "cell_type": "code",
      "source": [
        "%%time\n",
        "def grader_7a(q7a):\n",
        "    q7a_results  = pd.read_sql_query(q7a,conn)\n",
        "    print(q7a_results.head(180))\n",
        "    assert (q7a_results.shape == (78, 2))\n",
        "\n",
        "query7a = \"\"\"select CAST(SUBSTR(TRIM(movie.year),-4) AS INTEGER) as yearwise,count(MID) cou_mov from movie group by CAST(SUBSTR(TRIM(movie.year),-4) AS yearwise)\"\"\"\n",
        "grader_7a(query7a)"
      ],
      "metadata": {
        "colab": {
          "base_uri": "https://localhost:8080/"
        },
        "id": "un2mM5KRkrhD",
        "outputId": "c3a3ea68-40b5-4dde-a6f8-adaaeeadf9aa"
      },
      "execution_count": null,
      "outputs": [
        {
          "output_type": "stream",
          "name": "stdout",
          "text": [
            "    yearwise  cou_mov\n",
            "0       1931        1\n",
            "1       1936        3\n",
            "2       1939        2\n",
            "3       1941        1\n",
            "4       1943        1\n",
            "..       ...      ...\n",
            "73      2014      126\n",
            "74      2015      119\n",
            "75      2016      129\n",
            "76      2017      126\n",
            "77      2018      104\n",
            "\n",
            "[78 rows x 2 columns]\n",
            "CPU times: user 8.76 ms, sys: 0 ns, total: 8.76 ms\n",
            "Wall time: 8.72 ms\n"
          ]
        }
      ]
    },
    {
      "cell_type": "code",
      "source": [
        "%%time\n",
        "def grader_7b(q7b):\n",
        "    q7b_results  = pd.read_sql_query(q7b,conn)\n",
        "    print(q7b_results.head(713))\n",
        "    assert (q7b_results.shape == (713, 4)) \n",
        "\n",
        "query7b=\"\"\"select queryone.year,queryone.countone,querytwo.year,querytwo.counttwo from (select year,count(MID) countone from movie group by year)queryone join (select year,count(MID) counttwo from movie group by year)querytwo on querytwo.year<=queryone.year+9 and querytwo.year>=queryone.year\"\"\"\n",
        "grader_7b(query7b)"
      ],
      "metadata": {
        "colab": {
          "base_uri": "https://localhost:8080/"
        },
        "id": "DlSQ_3zSpMGU",
        "outputId": "c665e2ea-3ecf-4e09-cc61-5d0047885e9e"
      },
      "execution_count": null,
      "outputs": [
        {
          "output_type": "stream",
          "name": "stdout",
          "text": [
            "     year  countone  year  counttwo\n",
            "0    1931         1  1931         1\n",
            "1    1931         1  1936         3\n",
            "2    1931         1  1939         2\n",
            "3    1936         3  1936         3\n",
            "4    1936         3  1939         2\n",
            "..    ...       ...   ...       ...\n",
            "708  2016       129  2017       126\n",
            "709  2016       129  2018       104\n",
            "710  2017       126  2017       126\n",
            "711  2017       126  2018       104\n",
            "712  2018       104  2018       104\n",
            "\n",
            "[713 rows x 4 columns]\n",
            "CPU times: user 13.4 ms, sys: 0 ns, total: 13.4 ms\n",
            "Wall time: 14.5 ms\n"
          ]
        }
      ]
    },
    {
      "cell_type": "code",
      "source": [
        "%%time\n",
        "def grader_7(q7):\n",
        "    q7_results  = pd.read_sql_query(q7,conn)\n",
        "    print(q7_results.head(10))\n",
        "    assert (q7_results.shape == (1, 2))\n",
        "\n",
        "query7 = \"\"\" WITH nonduplicateyearcolumn AS ( SELECT DISTINCT CAST(SUBSTR(year,-4) AS UNSIGNED) tsfdays, CAST(SUBSTR(year,-4) AS UNSIGNED) yearwisestarting, CAST(SUBSTR(year,-4) AS UNSIGNED)+9 yearwiseending, '10 Year : ' || SUBSTR(year,-4)   yearwiseten FROM Movie), nomovyear AS ( SELECT COUNT(DISTINCT MID) nom, CAST(SUBSTR(year,-4) AS UNSIGNED) tsfdays FROM Movie GROUP BY CAST(SUBSTR(year,-4) AS UNSIGNED)), nmid AS  (SELECT SUM(nom) sum_of_mov, drec.yearwiseten FROM nomovyear noyer, nonduplicateyearcolumn drec WHERE noyer.tsfdays BETWEEN drec.yearwisestarting AND drec.yearwiseending GROUP BY drec.yearwiseten ) SELECT yearwiseten, sum_of_mov FROM nmid WHERE sum_of_mov = (SELECT MAX(sum_of_mov) FROM nmid)\"\"\"\n",
        "grader_7(query7)"
      ],
      "metadata": {
        "colab": {
          "base_uri": "https://localhost:8080/"
        },
        "id": "258gdCKV0o1L",
        "outputId": "f01e25d7-5d89-4724-c4a7-fc892c0df1e7"
      },
      "execution_count": null,
      "outputs": [
        {
          "output_type": "stream",
          "name": "stdout",
          "text": [
            "      yearwiseten  sum_of_mov\n",
            "0  10 Year : 2008        1203\n",
            "CPU times: user 25.6 ms, sys: 0 ns, total: 25.6 ms\n",
            "Wall time: 35.2 ms\n"
          ]
        }
      ]
    },
    {
      "cell_type": "markdown",
      "source": [
        "Q8 --- Find all the actors that made more movies with Yash Chopra than any other director."
      ],
      "metadata": {
        "id": "H689f0F2WLZ1"
      }
    },
    {
      "cell_type": "code",
      "source": [
        "%%time\n",
        "def grader_8a(q8a):\n",
        "    q8a_results  = pd.read_sql_query(q8a,conn)\n",
        "    print(q8a_results.head(10))\n",
        "    assert (q8a_results.shape == (73408, 3))\n",
        "\n",
        "query8a = \"\"\" select mov_Cast_table.PID Cast_id,mov_dir_table.PID Director_id,count(mov_dir_table.MID) number_of_movies from M_cast mov_Cast_table join M_Director mov_dir_table on mov_Cast_table.MID = mov_dir_table.MID group by mov_Cast_table.PID,mov_dir_table.PID\"\"\"\n",
        "grader_8a(query8a)\n",
        "\n"
      ],
      "metadata": {
        "colab": {
          "base_uri": "https://localhost:8080/"
        },
        "id": "EwgNdL4yWyhZ",
        "outputId": "56d9c602-4af1-4532-963d-49858c171c7d"
      },
      "execution_count": null,
      "outputs": [
        {
          "output_type": "stream",
          "name": "stdout",
          "text": [
            "     Cast_id Director_id  number_of_movies\n",
            "0  nm0000002   nm0496746                 1\n",
            "1  nm0000027   nm0000180                 1\n",
            "2  nm0000039   nm0896533                 1\n",
            "3  nm0000042   nm0896533                 1\n",
            "4  nm0000047   nm0004292                 1\n",
            "5  nm0000073   nm0485943                 1\n",
            "6  nm0000076   nm0000229                 1\n",
            "7  nm0000092   nm0178997                 1\n",
            "8  nm0000093   nm0000269                 1\n",
            "9  nm0000096   nm0113819                 1\n",
            "CPU times: user 249 ms, sys: 19.9 ms, total: 269 ms\n",
            "Wall time: 270 ms\n"
          ]
        }
      ]
    },
    {
      "cell_type": "code",
      "source": [
        "%%time\n",
        "\n",
        "def grader_8(q8):\n",
        "    q8_results  = pd.read_sql_query(q8,conn)\n",
        "    print(q8_results.head(10))\n",
        "    print(q8_results.shape)\n",
        "    assert (q8_results.shape == (245, 2))\n",
        "\n",
        "query8 = \"\"\"WITH yaschopra AS (SELECT PID FROM Person WHERE Name like \"%Yash Chopra%\"), noams AS(SELECT TRIM(mov_Cast_table.PID) actid,TRIM(mvid.PID) dprsni, COUNT(DISTINCT TRIM(mvid.MID)) AS nom FROM M_Cast mov_Cast_table, M_Director mvid WHERE TRIM(mov_Cast_table.MID)= TRIM(mvid.MID) GROUP BY actid, dprsni),nor AS( SELECT actid,dprsni,MAX(nom) Count FROM noams numofmovs,yaschopra ychop WHERE numofmovs.dprsni <> ychop.PID GROUP BY actid ), noy AS  (SELECT actid,dprsni,numofmovs.nom COUNT FROM noams numofmovs, yaschopra ychop WHERE numofmovs.dprsni = ychop.PID),fqury AS (SELECT aone.actid,aone.COUNT numberMov FROM  noy aone LEFT OUTER JOIN nor atw ON aone.actid=atw.actid WHERE  aone.COUNT>=IFNULL(atw.COUNT,0) ORDER BY aone.COUNT DESC)SELECT prsn.Name Name_of_person,fiqry.numberMov 'Number_of_Persons' FROM  Person prsn, fqury fiqry WHERE prsn.PID = fiqry.actid\"\"\"\n",
        "grader_8(query8)"
      ],
      "metadata": {
        "colab": {
          "base_uri": "https://localhost:8080/"
        },
        "id": "HYrOxYJgbMPJ",
        "outputId": "d5f743d0-73b2-422c-e3ad-137f64d67768"
      },
      "execution_count": null,
      "outputs": [
        {
          "output_type": "stream",
          "name": "stdout",
          "text": [
            "     Name_of_person  Number_of_Persons\n",
            "0       Jagdish Raj                 11\n",
            "1  Manmohan Krishna                 10\n",
            "2          Iftekhar                  9\n",
            "3     Shashi Kapoor                  7\n",
            "4     Rakhee Gulzar                  5\n",
            "5    Waheeda Rehman                  5\n",
            "6          Ravikant                  4\n",
            "7    Achala Sachdev                  4\n",
            "8       Neetu Singh                  4\n",
            "9     Leela Chitnis                  3\n",
            "(245, 2)\n",
            "CPU times: user 1min 33s, sys: 134 ms, total: 1min 33s\n",
            "Wall time: 1min 33s\n"
          ]
        }
      ]
    },
    {
      "cell_type": "markdown",
      "source": [
        "Q9 --- The Shahrukh number of an actor is the length of the shortest path between the actor and Shahrukh Khan in the \"co-acting\" graph. That is, Shahrukh Khan has Shahrukh number 0; all actors who acted in the same film as Shahrukh have Shahrukh number 1; all actors who acted in the same film as some actor with Shahrukh number 1 have Shahrukh number 2, etc. Return all actors whose Shahrukh number is 2."
      ],
      "metadata": {
        "id": "IuAXtoXRvXoA"
      }
    },
    {
      "cell_type": "code",
      "source": [
        "%%time\n",
        "def grader_9(q9a):\n",
        "    q9_results  = pd.read_sql_query(q9a,conn)\n",
        "    print(q9_results.head(10))\n",
        "    print(q9_results.shape)\n",
        "    assert (q9_results.shape == (2382, 1))\n",
        "\n",
        "query9 = \"\"\"select distinct PID AS spersonid from M_Cast mcasttable where MID in (select MID from M_Cast mcasttable where PID LIKE '%nm0451321%')and PID NOT LIKE '%nm0451321%'\"\"\"\n",
        "grader_9(query9)\n"
      ],
      "metadata": {
        "colab": {
          "base_uri": "https://localhost:8080/"
        },
        "id": "47dfRvUbwrei",
        "outputId": "2de31c14-7489-453e-9784-094aac1bbec5"
      },
      "execution_count": null,
      "outputs": [
        {
          "output_type": "stream",
          "name": "stdout",
          "text": [
            "   spersonid\n",
            "0  nm0004418\n",
            "1  nm1995953\n",
            "2  nm2778261\n",
            "3  nm0631373\n",
            "4  nm0241935\n",
            "5  nm0792116\n",
            "6  nm1300111\n",
            "7  nm0196375\n",
            "8  nm1464837\n",
            "9  nm2868019\n",
            "(2382, 1)\n",
            "CPU times: user 40.6 ms, sys: 3 ms, total: 43.6 ms\n",
            "Wall time: 45.6 ms\n"
          ]
        }
      ]
    },
    {
      "cell_type": "code",
      "source": [
        "%%time\n",
        "def grader_9(q9):\n",
        "    q9_results  = pd.read_sql_query(q9,conn)\n",
        "    print(q9_results.head(10))\n",
        "    print(q9_results.shape)\n",
        "    assert (q9_results.shape == (25698, 1))\n",
        "\n",
        "query9=\"\"\" select prsnthre.name from person prsnthre where trim(prsnthre.pid) in (select distinct trim(cthre.pid) from m_cast cthre where trim(cthre.mid) in (select trim(movtwo.mid) from movie movtwo where trim(movtwo.mid) in (select trim(ctwo.mid) from m_cast ctwo where trim(ctwo.pid) in (select trim(pid) from person prsnone where trim(pid) in (select trim(castetable.pid) from m_cast castetable where trim(castetable.mid) in (select trim(movtable.mid) from movie movtable where trim(movtable.mid) in (select trim(mcastable.mid) from m_cast mcastable where trim(mcastable.pid) in (select trim(prsn.pid) from person prsn where trim(prsn.name) like '%shah rukh khan%'))))))) except select trim(pid) from person castetable where trim(pid) in (select trim(castetable.pid) from m_cast castetable where trim(castetable.mid) in (select trim(movtable.mid) from movie movtable where trim(movtable.mid) in (select trim(mcastable.mid) from m_cast mcastable where trim(mcastable.pid) in (select trim(prsn.pid) from person prsn where trim(prsn.name) like '%shah rukh khan%')))))\"\"\"\n",
        "grader_9(query9)"
      ],
      "metadata": {
        "colab": {
          "base_uri": "https://localhost:8080/"
        },
        "id": "F29E8g6rzkgF",
        "outputId": "d88fc18a-c7b2-45de-fd58-94381bc00628"
      },
      "execution_count": null,
      "outputs": [
        {
          "output_type": "stream",
          "name": "stdout",
          "text": [
            "                    Name\n",
            "0           Freida Pinto\n",
            "1            Rohan Chand\n",
            "2           Damian Young\n",
            "3        Waris Ahluwalia\n",
            "4  Caroline Christl Long\n",
            "5          Rajeev Pahuja\n",
            "6      Michelle Santiago\n",
            "7        Alicia Vikander\n",
            "8           Dominic West\n",
            "9         Walton Goggins\n",
            "(25698, 1)\n",
            "CPU times: user 504 ms, sys: 22.2 ms, total: 526 ms\n",
            "Wall time: 684 ms\n"
          ]
        }
      ]
    }
  ]
}